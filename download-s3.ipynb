{
 "cells": [
  {
   "cell_type": "code",
   "execution_count": 2,
   "metadata": {},
   "outputs": [
    {
     "name": "stdout",
     "output_type": "stream",
     "text": [
      "Downloaded designpatterns.pdf to /Users/shivavardhineedi/Desktop/HPC-data/major-project/POC/course-documents/designpatterns.pdf\n"
     ]
    }
   ],
   "source": [
    "import boto3\n",
    "import os\n",
    "from dotenv import load_dotenv\n",
    "\n",
    "# Load environment variables from the .env file\n",
    "load_dotenv()\n",
    "\n",
    "# Access keys and bucket name from environment variables\n",
    "aws_access_key = os.getenv('AWS_ACCESS_KEY')\n",
    "aws_secret_key = os.getenv('AWS_SECRET_ACCESS_KEY')\n",
    "bucket_name = os.getenv('BUCKET_NAME')\n",
    "\n",
    "# Configure S3 client using credentials from the .env file\n",
    "s3 = boto3.client('s3', aws_access_key_id=aws_access_key, aws_secret_access_key=aws_secret_key)\n",
    "\n",
    "# Define the path where the files will be downloaded\n",
    "download_directory = '/Users/shivavardhineedi/Desktop/HPC-data/major-project/POC/course-documents'\n",
    "\n",
    "# Ensure the directory exists\n",
    "if not os.path.exists(download_directory):\n",
    "    os.makedirs(download_directory)\n",
    "\n",
    "# List and download PDF files from the specified S3 bucket\n",
    "def download_pdfs_from_s3():\n",
    "    objects = s3.list_objects_v2(Bucket=bucket_name)\n",
    "    pdf_files = [obj['Key'] for obj in objects.get('Contents', []) if obj['Key'].endswith('.pdf')]\n",
    "\n",
    "    for pdf_key in pdf_files:\n",
    "        # Create full local path for the downloaded file\n",
    "        local_file = os.path.join(download_directory, os.path.basename(pdf_key))\n",
    "        \n",
    "        # Download the file from S3\n",
    "        s3.download_file(bucket_name, pdf_key, local_file)\n",
    "        \n",
    "        print(f\"Downloaded {pdf_key} to {local_file}\")\n",
    "\n",
    "    return pdf_files\n",
    "\n",
    "pdf_files = download_pdfs_from_s3()\n"
   ]
  },
  {
   "cell_type": "code",
   "execution_count": null,
   "metadata": {},
   "outputs": [],
   "source": []
  }
 ],
 "metadata": {
  "kernelspec": {
   "display_name": "major-project",
   "language": "python",
   "name": "python3"
  },
  "language_info": {
   "codemirror_mode": {
    "name": "ipython",
    "version": 3
   },
   "file_extension": ".py",
   "mimetype": "text/x-python",
   "name": "python",
   "nbconvert_exporter": "python",
   "pygments_lexer": "ipython3",
   "version": "3.9.6"
  },
  "orig_nbformat": 4
 },
 "nbformat": 4,
 "nbformat_minor": 2
}
